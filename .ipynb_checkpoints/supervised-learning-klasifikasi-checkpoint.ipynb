{
 "cells": [
  {
   "cell_type": "markdown",
   "id": "f685569e-3907-4c78-8ade-25e2b6fc2fde",
   "metadata": {},
   "source": [
    "# Learning About Supervised Learning (Klasifikasi)"
   ]
  },
  {
   "cell_type": "markdown",
   "id": "8debb951-5c2e-41db-8875-78ddea658528",
   "metadata": {},
   "source": [
    "## Import All Libraries"
   ]
  },
  {
   "cell_type": "code",
   "execution_count": null,
   "id": "94d0f626-1e79-4403-b9d2-319eced151ff",
   "metadata": {},
   "outputs": [],
   "source": []
  }
 ],
 "metadata": {
  "kernelspec": {
   "display_name": "Python 3 (ipykernel)",
   "language": "python",
   "name": "python3"
  },
  "language_info": {
   "codemirror_mode": {
    "name": "ipython",
    "version": 3
   },
   "file_extension": ".py",
   "mimetype": "text/x-python",
   "name": "python",
   "nbconvert_exporter": "python",
   "pygments_lexer": "ipython3",
   "version": "3.10.5"
  }
 },
 "nbformat": 4,
 "nbformat_minor": 5
}
